{
 "cells": [
  {
   "cell_type": "markdown",
   "metadata": {},
   "source": [
    "# Linear Algebra\n",
    "\n",
    "## Scalar, Vectors and Matrices\n",
    "\n",
    "Scalars, Vectors, and Matrices are the fundamental structs of linear algebra. In the section, we introduce each of those objects and their properties."
   ]
  },
  {
   "cell_type": "markdown",
   "metadata": {},
   "source": [
    "### Scalars\n",
    "\n",
    "Scalars $s$ represent numerical values. Attributes such as the speed of light, the age of a person are scalars."
   ]
  },
  {
   "cell_type": "code",
   "execution_count": 2,
   "metadata": {},
   "outputs": [],
   "source": [
    "age = 24  # Age of a person\n",
    "c = 3e-8  # Celerity of light"
   ]
  },
  {
   "cell_type": "markdown",
   "metadata": {},
   "source": [
    "### Vectors\n",
    "\n",
    "Vectors $\\vec{v}$ are arrays or collections of scalars. The components of a vector are referred as a coordinate, and its number corresponds to the dimensionality $d$ of the vector. In 2D space, a point can be represented as a vector $\\vec{p}$ with two components $p_x$ and $p_y$. A vector can also be used to represent multiple attributes such as the age and the height of a person. A scalar can be defined as a one dimensional vector.\n",
    "\n",
    "$$\n",
    "\\vec{v} = \\begin{pmatrix}\n",
    "v_1 \\\\\n",
    "v_2 \\\\\n",
    "\\vdots \\\\\n",
    "v_n\n",
    "\\end{pmatrix}\n",
    "$$\n",
    "\n",
    "> Vectors are represented as column vector by default for convinience (useful for data science)"
   ]
  },
  {
   "cell_type": "code",
   "execution_count": 53,
   "metadata": {},
   "outputs": [],
   "source": [
    "import numpy as np\n",
    "\n",
    "point = np.array([    # Point (coordinates)\n",
    "    [ 1],             # x component\n",
    "    [-1],             # y component\n",
    "])\n",
    "\n",
    "person = np.array([   # Person (attributes)\n",
    "    [ 24],            # age\n",
    "    [175],            # height\n",
    "])"
   ]
  },
  {
   "cell_type": "markdown",
   "metadata": {},
   "source": [
    "A vector is often refered as a geometric vector representing a direction. Each of its component is reseponsible for the rate of change along its corresponding axis. This kind of vector representation is used in physics to represent the movement of an object with with a velocity $\\vec{v}$ vector and an acceleration one $\\vec{a}$."
   ]
  },
  {
   "cell_type": "code",
   "execution_count": null,
   "metadata": {},
   "outputs": [],
   "source": []
  },
  {
   "cell_type": "markdown",
   "metadata": {},
   "source": [
    "### Matrices\n",
    "\n",
    "## Linear Transformations\n",
    "\n",
    "### Scale\n",
    "### Rotate\n",
    "### Shear\n",
    "### Reflect\n",
    "### Orthogonal Projection\n",
    "\n",
    "## Affine Transformations\n",
    "\n",
    "### Tranlsation\n",
    "### Perspective Projection"
   ]
  }
 ],
 "metadata": {
  "kernelspec": {
   "display_name": "Python 3",
   "language": "python",
   "name": "python3"
  },
  "language_info": {
   "codemirror_mode": {
    "name": "ipython",
    "version": 3
   },
   "file_extension": ".py",
   "mimetype": "text/x-python",
   "name": "python",
   "nbconvert_exporter": "python",
   "pygments_lexer": "ipython3",
   "version": "3.8.2"
  }
 },
 "nbformat": 4,
 "nbformat_minor": 4
}
