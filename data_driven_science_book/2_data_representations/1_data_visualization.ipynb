{
 "metadata": {
  "language_info": {
   "codemirror_mode": {
    "name": "ipython",
    "version": 3
   },
   "file_extension": ".py",
   "mimetype": "text/x-python",
   "name": "python",
   "nbconvert_exporter": "python",
   "pygments_lexer": "ipython3",
   "version": 3
  },
  "orig_nbformat": 2
 },
 "nbformat": 4,
 "nbformat_minor": 2,
 "cells": [
  {
   "source": [
    "# Data Visualization\n",
    "\n",
    "## Introduction\n",
    "\n",
    "Why should you care about **Data Visualization**? Scientists have to report their work to demonstrate their arguments as a research paper, poster presentation, a talk, client reports, and vulgarisation. In this sense, it is a requirement to make clear, attractive, and convincing data visualization. They play a central part in their communication and often carry the weight of an argumentation."
   ],
   "cell_type": "markdown",
   "metadata": {}
  }
 ]
}