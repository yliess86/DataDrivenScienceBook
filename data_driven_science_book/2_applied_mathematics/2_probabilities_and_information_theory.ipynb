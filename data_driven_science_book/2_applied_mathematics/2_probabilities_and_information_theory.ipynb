{
 "cells": [
  {
   "cell_type": "markdown",
   "metadata": {},
   "source": [
    "# Probabilities and Information Theory\n",
    "\n",
    "## Introduction\n",
    "\n",
    "**Probability Theory** is the study of probability and its interpretations through a set of rigorous mathematical formalism and axioms. It defines probability in terms of a probability space and probability measures between $0$ and $1$. In conjunction with Linear Algebra, Probability is one of the bases for Machine Learning.\n",
    "\n",
    "## Fundamentals of Probability\n",
    "\n",
    "In this section, the fundamental concepts of probability theory, **Random Experiments**, **Sets**, **Indepedence**, **Conditional Probability**, and **Baye's Rule** are discussed.\n",
    "\n",
    "### Random Experiments\n",
    "\n",
    "The **Probability** of an **Event** , defined as the chance of its realization,  is encoded as a **Positive Real Numeral** between $0$ and $1$. Formally speaking, we first define a **Probability Space** composed of the three following components: a **Sample Space** $\\Omega$ representing all possible outcomes of an experiment, a set of possible **Events**, as well as a **Probability Function** $P$ measuring the chance of each event to occur.\n",
    "\n",
    "```{note}\n",
    "Note the $\\Omega$ contains itself but also the empty set of events $\\varnothing$\n",
    "```\n",
    "\n",
    "The probability function is defined such as it always respect the following requirements:\n",
    "- $P(\\varnothing)=0$\n",
    "- $P(\\Omega)=1$\n",
    "- $P(A \\cup B)=P(A) + P(B)$ for two disjoint events $A$ and $B$\n",
    "- $P(\\overline{A}) = 1 - P(A)$ with $\\overline{A}$ being the complement of the event $A$.\n",
    "\n",
    "Let us illustrate those concepts by comparing three random experiments by **Monte Carlo Simulation** in conjunction with the **Theroy**.\n",
    "\n",
    "#### Dice Rowling\n",
    "\n",
    "Consider the following experiment where two independant and non-pipped six-sided dices are rolled, and we want to find the probability of the both dice being odd. The problem can be formalised as follow:\n",
    "- $\\Omega = \\left \\{ 1, \\dots, 6  \\right \\}^2$\n",
    "- $A = \\left \\{ (i, j) \\; | \\; i + j \\; \\text{is odd} \\right \\}$\n",
    "- $P(B) = \\frac{|B|}{|\\Omega|}$ where $|.|$ denotes the number of element in the given set\n",
    "\n",
    "The probability function is symmetric and can be resumed in the following table:"
   ]
  },
  {
   "cell_type": "code",
   "execution_count": 105,
   "metadata": {
    "tags": [
     "hide-input",
     "remove-output"
    ]
   },
   "outputs": [
    {
     "data": {
      "image/png": "[encoded data removed]",
      "text/plain": [
       "<Figure size 151.2x151.2 with 1 Axes>"
      ]
     },
     "metadata": {},
     "output_type": "display_data"
    }
   ],
   "source": [
    "import matplotlib.pyplot as plt\n",
    "plt.ion()\n",
    "plt.style.use(\"fivethirtyeight\")\n",
    "\n",
    "omega = list(range(0, 6 + 1))\n",
    "table = [[i + j for j in omega] for i in omega]\n",
    "color = [[(1, 1, 1, 1) if e % 2 == 0 else (0, 0.2, 0.2, 0.2) for e in row] for row in table]\n",
    "table = [[str(e) for e in row] for row in table]\n",
    "\n",
    "bold = lambda x: f\"$\\\\bf{x}$\"\n",
    "\n",
    "for i in range(0, 6 + 1):\n",
    "    color[i][0] = color[0][i] = (1, 1, 1, 1)\n",
    "    table[i][0] = table[0][i] = bold(i) if i > 0 else \"\"\n",
    "\n",
    "cell_size = 0.3\n",
    "size = cell_size * len(table)\n",
    "\n",
    "fig = plt.figure(figsize=(size, size),  facecolor=\"white\")\n",
    "ax = fig.add_subplot(1, 1, 1)\n",
    "ax.set_axis_off()\n",
    "\n",
    "table = ax.table(cellText=table, cellColours=color, loc=\"center\", cellLoc=\"center\")\n",
    "table.set_fontsize(16)\n",
    "for pos, cell in table.get_celld().items():\n",
    "    cell.set_height(cell_size)\n",
    "    cell.set_width(cell_size)\n",
    "\n",
    "fig.canvas.draw()"
   ]
  },
  {
   "cell_type": "code",
   "execution_count": null,
   "metadata": {
    "tags": [
     "remove-cell"
    ]
   },
   "outputs": [],
   "source": [
    "from myst_nb import glue\n",
    "glue(\"experiment_dice_fig\", fig, display=False)"
   ]
  },
  {
   "cell_type": "markdown",
   "metadata": {},
   "source": [
    "```{glue:figure} experiment_dice_fig\n",
    ":align: center\n",
    ":name: \"experiment-dice-fig\"\n",
    "\n",
    "Table representig the probabilities for each value of the two dices. The odd outcomes'cell are filled in gray.\n",
    "```"
   ]
  },
  {
   "cell_type": "markdown",
   "metadata": {},
   "source": [
    "Using the defined probability function, we can now compute the probability of the event $A$ as beign:\n",
    "\n",
    "$$\n",
    "P(A) = \\frac{18}{36} = 0.5\n",
    "$$"
   ]
  },
  {
   "cell_type": "code",
   "execution_count": 118,
   "metadata": {},
   "outputs": [
    {
     "name": "stdout",
     "output_type": "stream",
     "text": [
      "Theory                : P(A) = 50.00%\n",
      "Monte Carlo Estimation: P(A) = 50.32%\n"
     ]
    }
   ],
   "source": [
    "from itertools import product\n",
    "\n",
    "import numpy as np\n",
    "np.random.seed(42)\n",
    "\n",
    "\n",
    "N, FACES = 10**4, list(range(1, 6 + 1))\n",
    "is_odd = lambda x: x % 2 != 0\n",
    "\n",
    "th_p = np.sum([is_odd(i + j) for i, j in product(FACES, FACES)]) / (len(FACES) ** 2)\n",
    "mc_p = np.sum([is_odd(np.random.choice(FACES) + np.random.choice(FACES)) for _ in range(N)]) / N\n",
    "\n",
    "print(f\"Theory                : P(A) = {th_p * 100:.2f}%\")\n",
    "print(f\"Monte Carlo Estimation: P(A) = {mc_p * 100:.2f}%\")"
   ]
  },
  {
   "cell_type": "markdown",
   "metadata": {},
   "source": [
    "#### Password Hacking\n",
    "<!-- \n",
    "Monte Carlo Simulations W/ Theory\n",
    "- Password Hacking\n",
    "- Sampling w/ or wo/ Replacement\n",
    "-->\n",
    "\n",
    "\n",
    "### Sets\n",
    "### Independence\n",
    "### Conditional Probability\n",
    "### Baye's Rule\n",
    "\n",
    "## Probability Distributions\n",
    "### Random Variables\n",
    "### Moment Based Descriptors\n",
    "### Discrete Distributions\n",
    "### Continuous Distributions\n",
    "### Joint Distributions\n",
    "\n",
    "## Statistical Inference\n",
    "### Random Sample\n",
    "### Normal Sampling\n",
    "### Central Limit Thorem\n",
    "### Point Estimation\n",
    "### Confidence Intervals\n",
    "### Bayesian Statistics\n",
    "\n",
    "## Hypothesis Testing\n",
    "### Single Sample Hypothesis\n",
    "### Two Sample Hypothesis\n",
    "### Analysis of Variance\n",
    "### Godness of Fit\n",
    "\n",
    "## Information Theory\n",
    "### Self-Information and Entropy\n",
    "### Kullback-Leilber Divergence\n",
    "### Jensen-Shanon Divergence\n",
    "### Wasserstein Distance\n",
    "\n",
    "## Applications\n",
    "### Noise in Computer Graphics\n",
    "### Probabilistic Dynamic Modeling\n",
    "### Logistic Regression"
   ]
  }
 ],
 "metadata": {
  "celltoolbar": "Tags",
  "kernelspec": {
   "display_name": "Python 3",
   "language": "python",
   "name": "python3"
  },
  "language_info": {
   "codemirror_mode": {
    "name": "ipython",
    "version": 3
   },
   "file_extension": ".py",
   "mimetype": "text/x-python",
   "name": "python",
   "nbconvert_exporter": "python",
   "pygments_lexer": "ipython3",
   "version": "3.8.2"
  }
 },
 "nbformat": 4,
 "nbformat_minor": 4
}
