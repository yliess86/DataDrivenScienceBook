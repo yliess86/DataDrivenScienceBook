{
 "cells": [
  {
   "cell_type": "markdown",
   "metadata": {},
   "source": [
    "# Probabilities and Information Theory\n",
    "\n",
    "## Introduction\n",
    "\n",
    "## Fundamentals of Probability\n",
    "### Random Experiments\n",
    "### Sets\n",
    "### Independence\n",
    "### Conditional Probability\n",
    "### Baye's Rule\n",
    "\n",
    "## Probability Distributions\n",
    "### Random Variables\n",
    "### Moment Based Descriptors\n",
    "### Discrete Distributions\n",
    "### Continuous Distributions\n",
    "### Joint Distributions\n",
    "\n",
    "## Statistical Inference\n",
    "### Random Sample\n",
    "### Normal Sampling\n",
    "### Central Limit Thorem\n",
    "### Point Estimation\n",
    "### Confidence Intervals\n",
    "### Bayesian Statistics\n",
    "\n",
    "## Hypothesis Testing\n",
    "### Single Sample Hypothesis\n",
    "### Two Sample Hypothesis\n",
    "### Analysis of Variance\n",
    "### Godness of Fit\n",
    "\n",
    "## Information Theory\n",
    "### Self-Information and Entropy\n",
    "### Kullback-Leilber Divergence\n",
    "### Jensen-Shanon Divergence\n",
    "### Wasserstein Distance\n",
    "\n",
    "## Applications\n",
    "### Noise in Computer Graphics\n",
    "### Probabilistic Dynamic Modeling\n",
    "### Logistic Regression"
   ]
  }
 ],
 "metadata": {
  "kernelspec": {
   "display_name": "Python 3",
   "language": "python",
   "name": "python3"
  },
  "language_info": {
   "codemirror_mode": {
    "name": "ipython",
    "version": 3
   },
   "file_extension": ".py",
   "mimetype": "text/x-python",
   "name": "python",
   "nbconvert_exporter": "python",
   "pygments_lexer": "ipython3",
   "version": "3.8.2"
  }
 },
 "nbformat": 4,
 "nbformat_minor": 4
}
