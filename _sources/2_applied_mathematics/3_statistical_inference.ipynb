{
 "cells": [
  {
   "cell_type": "markdown",
   "metadata": {},
   "source": [
    "# Statistical Inference\n",
    "\n",
    "## Introduction\n",
    "\n",
    "**Statistical Inference** uses classical statistics to observe and study patterns from an unknown population based on data. There are two main approaches to the field, either **Frequentist** or **Bayesian**. The first approach implies a fixed distribution responsible for the generation of repeated patterns in the data. We can find the best estimate of the distribution's parameters given data samples. The last one implies that the state of the world can be updated using observed samples. The parameters of the distributions can themselves be represented using probability.\n",
    "\n",
    "As an example, here is a situation explained using the two frameworks. Imagine your phone is ringing in your house, and you want to reach it:\n",
    "- **Frequentist**: I have a mental model of my house. Given the beeping sound, I can infer the house's area where I can search for my phone.\n",
    "- **Bayesian**: On top of having a mental model of my house, I also remember from the past where I misplaced the phone. By combining my inferences using the beeps and my prior information on its location, I can identify the house area and locate my phone.\n",
    "\n",
    "## Fundamentals of Statistics\n",
    "## Sampling\n",
    "## Confidence Intervals\n",
    "## Hypothesis Testing\n",
    "## Two-Sample Inference\n",
    "## Categorical Inference\n",
    "## Logistic Regression\n",
    "## ANOVA\n",
    "## Bayeisan Inference"
   ]
  }
 ],
 "metadata": {
  "kernelspec": {
   "display_name": "Python 3",
   "language": "python",
   "name": "python3"
  },
  "language_info": {
   "codemirror_mode": {
    "name": "ipython",
    "version": 3
   },
   "file_extension": ".py",
   "mimetype": "text/x-python",
   "name": "python",
   "nbconvert_exporter": "python",
   "pygments_lexer": "ipython3",
   "version": "3.8.2"
  }
 },
 "nbformat": 4,
 "nbformat_minor": 4
}
