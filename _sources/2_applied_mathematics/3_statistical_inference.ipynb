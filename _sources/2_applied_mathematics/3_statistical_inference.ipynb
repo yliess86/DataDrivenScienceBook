{
 "cells": [
  {
   "cell_type": "markdown",
   "metadata": {},
   "source": [
    "# Statistical Inference\n",
    "\n",
    "## Introduction\n",
    "\n",
    "**Statistical Inference** uses classical statistics to observe, study, and predict patterns resulting from data analysis and probabilistic modeling. There are two main approaches to the field, either **Frequentist** or **Bayesian**. The first approach implies a fixed distribution responsible for the generation of repeated patterns in the data. We can find the best estimate of the distribution's parameters given data samples. The last one implies that the state of the world can be updated using observed samples. The parameters of the distributions can themselves be represented using probability.\n",
    "\n",
    "As an example, here is a situation explaining using the two frameworks. Imagine your phone is ringing in your house, and you want to reach it:\n",
    "- **Frequentist**: I have a mental model of my house. Given the beeping sound, I can infer the house's area to search for my phone.\n",
    "- **Bayesian**: On top of having a mental model of my house, I also remember from the past where I misplaced the phone. By combining my inferences using the beeps and my prior information on its location, I can identify the house area and locate my phone.\n",
    "\n",
    "## Statistical Analysis Fundamentals\n",
    "\n",
    "**Statistical Analysis** allows us to describe patterns observed in any given dataset via **Visualization** or **Statistical Descriptors**. In statistics, we are interested in studying a given **Sample** from a **Population** of **Individuals**.\n",
    "\n",
    "```{note}\n",
    "Statistical Descriptors are closely related to [Probability Descriptors](./2_probabilities_and_information_theory.ipynb). As we will observe later in the chapter, the Observed Mean can be associated with the Expectation, the Observed Variance to the Variance, and many more.\n",
    "```\n",
    "\n",
    "Suppose we design a study on the effectiveness of some medicine for some given disease. In that case, the sample corresponds to the set of patients who participated in the study, and the population represents all the people suffering from the studied disease.\n",
    "\n",
    "To give credit to a **Study**, in other word to **Generalize** its results, the sample needs to **Reflect** the **Variation** present in the entire population of interest. One way to obtain such a sample is to include **Randomness** in the population's selection process.\n",
    "\n",
    "Now that we have defined the context of application let us define all the fundamentals of Statistical Analysis.\n",
    "\n",
    "```{note}\n",
    "The different types of visualizations that can be used to express some data series' underlying variations have been discussed in the [Data Visualization Chapter](../1_data_representations/1_data_visualization.ipynb).\n",
    "```\n",
    "\n",
    "### Central Tendency\n",
    "\n",
    "The first type of descriptor is the **Central Tendency**. It expresses the central value, the typical value for a data distribution. The most common central tendency measures are the **Mode**, the **Mean**, and the **Median**.\n",
    "\n",
    "The **Mode** $M_o$ is the value that occurs most often in a given set of data values.\n",
    "\n",
    "The **Mean** $\\overline{x}$ refers to the **Arithmetic Mean**:\n",
    "\n",
    "$$\n",
    "\\overline{x} = \\frac{1}{n} \\sum_{i=1}^{n} x_i\n",
    "$$\n",
    "\n",
    "In some cases it also refers to the **Weighted Arithmetic Mean**:\n",
    "\n",
    "$$\n",
    "\\overline{x} = \\frac{1}{n} \\sum_{i=1}^{n} w_i x_i\n",
    "$$\n",
    "\n",
    "The **Median** $M_e$ is the variable responsible for separating the statistical distributions as two equally populated groups when organized in ascending order.\n",
    "\n",
    "$$\n",
    "M_e = \\begin{cases}\n",
    "x_{(n+1)/2} & \\text{if}\\;n\\;\\text{is odd} \\\\\n",
    "\\frac{x_{n/2} + x_{n/2 + 1}}{2} & \\text{if}\\;n\\;\\text{is even}\n",
    "\\end{cases}\n",
    "$$\n",
    "\n",
    "Let us consider the following example, which compiles one exam score for each of $22$ students and compute its central tendency metrics:"
   ]
  },
  {
   "cell_type": "code",
   "execution_count": 82,
   "metadata": {},
   "outputs": [
    {
     "data": {
      "text/html": [
       "<div>\n",
       "<style scoped>\n",
       "    .dataframe tbody tr th:only-of-type {\n",
       "        vertical-align: middle;\n",
       "    }\n",
       "\n",
       "    .dataframe tbody tr th {\n",
       "        vertical-align: top;\n",
       "    }\n",
       "\n",
       "    .dataframe thead th {\n",
       "        text-align: right;\n",
       "    }\n",
       "</style>\n",
       "<table border=\"1\" class=\"dataframe\">\n",
       "  <thead>\n",
       "    <tr style=\"text-align: right;\">\n",
       "      <th></th>\n",
       "      <th>0</th>\n",
       "      <th>1</th>\n",
       "      <th>2</th>\n",
       "      <th>3</th>\n",
       "      <th>4</th>\n",
       "      <th>5</th>\n",
       "      <th>6</th>\n",
       "      <th>7</th>\n",
       "      <th>8</th>\n",
       "      <th>9</th>\n",
       "      <th>10</th>\n",
       "      <th>11</th>\n",
       "      <th>12</th>\n",
       "      <th>13</th>\n",
       "      <th>14</th>\n",
       "      <th>15</th>\n",
       "      <th>16</th>\n",
       "      <th>17</th>\n",
       "      <th>18</th>\n",
       "      <th>19</th>\n",
       "      <th>20</th>\n",
       "      <th>21</th>\n",
       "    </tr>\n",
       "  </thead>\n",
       "  <tbody>\n",
       "    <tr>\n",
       "      <th>score</th>\n",
       "      <td>14</td>\n",
       "      <td>12</td>\n",
       "      <td>14</td>\n",
       "      <td>17</td>\n",
       "      <td>12</td>\n",
       "      <td>12</td>\n",
       "      <td>17</td>\n",
       "      <td>15</td>\n",
       "      <td>11</td>\n",
       "      <td>14</td>\n",
       "      <td>11</td>\n",
       "      <td>11</td>\n",
       "      <td>13</td>\n",
       "      <td>7</td>\n",
       "      <td>7</td>\n",
       "      <td>11</td>\n",
       "      <td>9</td>\n",
       "      <td>13</td>\n",
       "      <td>10</td>\n",
       "      <td>8</td>\n",
       "      <td>17</td>\n",
       "      <td>12</td>\n",
       "    </tr>\n",
       "  </tbody>\n",
       "</table>\n",
       "</div>"
      ],
      "text/plain": [
       "        0   1   2   3   4   5   6   7   8   9  10  11  12  13  14  15  16  17  \\\n",
       "score  14  12  14  17  12  12  17  15  11  14  11  11  13   7   7  11   9  13   \n",
       "\n",
       "       18  19  20  21  \n",
       "score  10   8  17  12  "
      ]
     },
     "execution_count": 82,
     "metadata": {},
     "output_type": "execute_result"
    }
   ],
   "source": [
    "import pandas as pd\n",
    "import numpy as np\n",
    "np.random.seed(42)\n",
    "pd.options.display.max_columns = 22\n",
    "\n",
    "\n",
    "N = 22\n",
    "\n",
    "# Generate Data for Example\n",
    "df = pd.DataFrame(data=np.random.normal(13, 3, size=N).astype(int), columns=[\"score\"])\n",
    "df.head(N).T"
   ]
  },
  {
   "cell_type": "code",
   "execution_count": 77,
   "metadata": {},
   "outputs": [
    {
     "name": "stdout",
     "output_type": "stream",
     "text": [
      "Mode  : 11.00\n",
      "Mean  : 12.14\n",
      "Median: 12.00\n"
     ]
    }
   ],
   "source": [
    "print(f\"Mode  : {df.score.mode().array[0]:.2f}\")\n",
    "print(f\"Mean  : {df.score.mean():.2f}\")\n",
    "print(f\"Median: {df.score.median():.2f}\")"
   ]
  },
  {
   "cell_type": "code",
   "execution_count": 124,
   "metadata": {
    "tags": [
     "hide-input",
     "remove-output"
    ]
   },
   "outputs": [
    {
     "data": {
      "image/png": "[encoded data removed]",
      "text/plain": [
       "<Figure size 576x288 with 1 Axes>"
      ]
     },
     "metadata": {},
     "output_type": "display_data"
    }
   ],
   "source": [
    "import matplotlib.pyplot as plt\n",
    "import numpy as np\n",
    "plt.ion()\n",
    "plt.style.use('fivethirtyeight')\n",
    "\n",
    "fig = plt.figure(figsize=(8, 4), facecolor=\"white\")\n",
    "ax = fig.add_subplot(1, 1, 1)\n",
    "\n",
    "ax.hist(df.score, bins=np.arange(20) - 0.5, rwidth=0.9)\n",
    "line1 = ax.axvline(df.score.mode().array[0], color=\"#E5AE42\", linestyle=\"--\")\n",
    "line2 = ax.axvline(df.score.mean(), color=\"#F6514C\", linestyle=\"--\")\n",
    "line3 = ax.axvline(df.score.median(), color=\"k\", linestyle=\"--\")\n",
    "ax.set_xlabel(\"score\")\n",
    "ax.set_ylabel(\"count\")\n",
    "ax.set_xticks(range(0, 20 + 1, 2))\n",
    "ax.set_xlim(-0.5, 20.5)\n",
    "ax.legend(handles=[line1, line2, line3], labels=[\"Mode\", \"Mean\", \"Median\"])\n",
    "\n",
    "fig.canvas.draw()"
   ]
  },
  {
   "cell_type": "code",
   "execution_count": null,
   "metadata": {
    "tags": [
     "remove-cell"
    ]
   },
   "outputs": [],
   "source": [
    "from myst_nb import glue\n",
    "glue(\"stat_centen_fig\", fig, display=False)"
   ]
  },
  {
   "cell_type": "markdown",
   "metadata": {},
   "source": [
    "```{glue:figure} stat_centen_fig\n",
    ":align: center\n",
    ":name: \"stat-centen-fig\"\n",
    "\n",
    "Mode, Mean, and Median Visualization for a dataset containing exam's scores of $22$ students.\n",
    "```"
   ]
  },
  {
   "cell_type": "markdown",
   "metadata": {},
   "source": [
    "### Spread\n",
    "\n",
    "The second type of descriptor is the **Spread** or **Dispersion** of a data series. It is often implied to be the spread around its mean. The most common spread measures are the **Range** and the **Variance**, thus the **Standard Deviation**.\n",
    "\n",
    "The **Range** $R$ of a data series is defined as the difference between its maximum and minimum values. If the values are organized in ascending order, its:\n",
    "\n",
    "$$\n",
    "R = x_n - x_0\n",
    "$$\n",
    "\n",
    "The **Variance**, $s^2$ for some observed data series, $\\sigma^2$ for some theoretical distribution, is the average sum of square difference from the mean. It explains how the data is distributed around the mean. The **Standard Deviation** is defined as the square root of the variance. It allows working with the same unit as the data.\n",
    "\n",
    "$$\n",
    "s^2 = \\frac{1}{n} \\sum_{i=1}^{n} (x_i - \\overline{x_i})^2\n",
    "$$\n",
    "\n",
    "Let us consider the same example as for the central tendency and compute the range and the standard deviation of the student scores:"
   ]
  },
  {
   "cell_type": "code",
   "execution_count": 130,
   "metadata": {},
   "outputs": [
    {
     "name": "stdout",
     "output_type": "stream",
     "text": [
      "Range: 10.00\n",
      "Std  : 2.93\n"
     ]
    }
   ],
   "source": [
    "print(f\"Range: {df.score.max() - df.score.min():.2f}\")\n",
    "print(f\"Std  : {df.score.std():.2f}\")"
   ]
  },
  {
   "cell_type": "markdown",
   "metadata": {},
   "source": [
    "### Correlation\n",
    "\n",
    "The last type of descriptor is the **Correlation** between two variables $X$ and $Y$. In satistical analysis, it is often easier to interpret the correlation between two variables of the same unit. If it is not the case, it is common practice to centre and reduce the variables $x = \\frac{X - \\mu}{\\sigma}$.\n",
    "\n",
    "One of the correlation metrics is the **Linear Correlation Coeficient** between $X$ and $Y$ and is defined as:\n",
    "\n",
    "$$\n",
    "\\rho(X, Y) = \\frac{Cov(X, Y)}{\\sigma_X \\sigma_Y},\\;\\;-1 \\leq \\rho(X, Y) \\leq 1\n",
    "$$\n",
    "\n",
    "When $\\rho(X, Y)$ is closed to $-1$ or $1$, it means that $X$ and $Y$ are linearly related, and the sign defines the direction of the linearity. If $\\rho(X, Y)$ is null, there is no linear dependency, no correlation between the two variables."
   ]
  },
  {
   "cell_type": "code",
   "execution_count": 153,
   "metadata": {
    "tags": [
     "hide-input",
     "remove-output"
    ]
   },
   "outputs": [
    {
     "data": {
      "image/png": "[encoded data removed]",
      "text/plain": [
       "<Figure size 864x288 with 3 Axes>"
      ]
     },
     "metadata": {},
     "output_type": "display_data"
    }
   ],
   "source": [
    "import matplotlib.pyplot as plt\n",
    "import numpy as np\n",
    "plt.ion()\n",
    "plt.style.use('fivethirtyeight')\n",
    "np.random.seed(42)\n",
    "\n",
    "N = 100\n",
    "\n",
    "fig = plt.figure(figsize=(12, 4), facecolor=\"white\")\n",
    "ax1, ax2, ax3 = [fig.add_subplot(1, 3, i + 1) for i in range(3)]\n",
    "\n",
    "XY = np.random.normal(0, 1, (N, 2))\n",
    "ax1.scatter(XY[:, 0], XY[:, 1])\n",
    "ax1.set_axis_off()\n",
    "ax1.title.set_text(r\"$\\rho$=0\")\n",
    "\n",
    "ax2.scatter(XY[:, 0], XY[:, 0])\n",
    "ax2.set_axis_off()\n",
    "ax2.title.set_text(r\"$\\rho$=1\")\n",
    "\n",
    "ax3.scatter(XY[:, 0], -XY[:, 0])\n",
    "ax3.set_axis_off()\n",
    "ax3.title.set_text(r\"$\\rho$=-1\")\n",
    "\n",
    "fig.subplots_adjust(hspace=0.40, wspace=0.25)\n",
    "fig.canvas.draw()"
   ]
  },
  {
   "cell_type": "code",
   "execution_count": null,
   "metadata": {
    "tags": [
     "remove-cell"
    ]
   },
   "outputs": [],
   "source": [
    "from myst_nb import glue\n",
    "glue(\"stat_correl_fig\", fig, display=False)"
   ]
  },
  {
   "cell_type": "markdown",
   "metadata": {},
   "source": [
    "```{glue:figure} stat_correl_fig\n",
    ":align: center\n",
    ":name: \"stat-correl-fig\"\n",
    "\n",
    "Visualization of the linear correlation coeficient between $X$ and $Y$.\n",
    "```"
   ]
  },
  {
   "cell_type": "markdown",
   "metadata": {},
   "source": [
    "## Sampling and Central Limit Theorem\n",
    "\n",
    "### Sample\n",
    "\n",
    "As stated previously in the chapter, statistic analysis allows us to study some probabilistic phenomena, for example, the error in diameter of a milling machine, on a defined **Sample** as the statistical characteristics of an entire population cannot be measured. In statistics, a **Sample** has to represent a **maximum** of the **variance** present in the **population** it is drawn from using a **known distribution**.\n",
    "\n",
    "A **Sample** can be defined as a set of $n$ independant random variable $(X_1,\\cdots,X_n)$ drawn from a same distribution. The Observations of a the sample are defined by $(x_1,\\cdots,x_n)$.\n",
    "\n",
    "A **Statistic** $T$ is a quantity, a measurable function, from the sample's values.\n",
    "\n",
    "$$\n",
    "T(X) = T(X_1,\\cdots,X_n)\n",
    "$$\n",
    "\n",
    "The **Empirical Mean Satistic** $\\overline{X}_n$ is:\n",
    "\n",
    "$$\n",
    "\\overline{X}_n = \\frac{1}{n} \\sum_{i=1}^{n} X_i\n",
    "$$\n",
    "\n",
    "If we define $\\mu$ the expected value, and $\\sigma^2$ the variance of the random variable $X$, the **Expected Value** and the **Variance** for the statistic $\\overline{X}_n$ can be defined as:\n",
    "\n",
    "$$\n",
    "\\begin{align}\n",
    "\\mathbb{E}(\\overline{X}_n) = \\mu && Var(\\overline{X}_n) = \\frac{\\sigma^2}{n}\n",
    "\\end{align}\n",
    "$$\n",
    "\n",
    "### Central Limit Theorem\n",
    "\n",
    "In this section, two fundamental theorems of statistics are discussed, the **Law of Large Numbers** and the **Central Limit Theorem**. Both of them concern the $\\overline{X}_n$ statistic for samples of independent and identically distributed random variables.\n",
    "\n",
    "The **Law of Large Numbers** states that for such a framework, as the sample **size grows**, its **mean** gets **closer** to the **average** of the entire **population**. We have been relying secretly on this theorem when dealing with Monte Carlo Simulation.\n",
    "\n",
    "$$\n",
    "\\overline{X}_n \\rightarrow \\mu \\;\\; \\text{when} \\;\\; n \\rightarrow +\\infty\n",
    "$$\n",
    "\n",
    "Let us verify this fact empirically with an example. Consider a dice where $X$ represents the outcome number of a throw and follows a uniform distribution. \n",
    "\n",
    "$$\n",
    "\\begin{align}\n",
    "P(X=x_i) = \\frac{1}{6} && \\mathbb{E}(X) = 3.5\n",
    "\\end{align}\n",
    "$$\n",
    "\n",
    "Let us repeat the experiment $n$ times and compute the statistic $\\overline{X}_n$. When the sample size grows, its value should be closer to $\\mu$, which is $3.5$. It is visually possible to verify that this convergence happens."
   ]
  },
  {
   "cell_type": "code",
   "execution_count": 162,
   "metadata": {
    "tags": [
     "hide-input",
     "remove-output"
    ]
   },
   "outputs": [
    {
     "data": {
      "image/png": "[encoded data removed]",
      "text/plain": [
       "<Figure size 576x288 with 1 Axes>"
      ]
     },
     "metadata": {},
     "output_type": "display_data"
    }
   ],
   "source": [
    "import matplotlib.pyplot as plt\n",
    "import numpy as np\n",
    "plt.ion()\n",
    "plt.style.use('fivethirtyeight')\n",
    "np.random.seed(42)\n",
    "\n",
    "fig = plt.figure(figsize=(8, 4), facecolor=\"white\")\n",
    "ax = fig.add_subplot(1, 1, 1)\n",
    "\n",
    "line1, *_ = ax.plot([np.random.uniform(1, 6, n).mean() if n > 0 else 0 for n in range(500)])\n",
    "line2, *_ = ax.plot(np.ones(500) * 3.5, color=\"#F6514C\", linestyle=\"--\")\n",
    "ax.legend(handles=[line1, line2], labels=[\"$\\overline{X_n}$\", \"$\\mu$ = 3.5\"])\n",
    "ax.set_xlabel(\"n\")\n",
    "ax.set_ylabel(\"X\")\n",
    "ax.set_ylim(-0.2, 6.2)\n",
    "\n",
    "fig.canvas.draw()"
   ]
  },
  {
   "cell_type": "code",
   "execution_count": null,
   "metadata": {
    "tags": [
     "remove-cell"
    ]
   },
   "outputs": [],
   "source": [
    "from myst_nb import glue\n",
    "glue(\"stat_lln_fig\", fig, display=False)"
   ]
  },
  {
   "cell_type": "markdown",
   "metadata": {},
   "source": [
    "```{glue:figure} stat_lln_fig\n",
    ":align: center\n",
    ":name: \"stat-lln-fig\"\n",
    "\n",
    "Visualization of the Low of Large Numbers. When $n$ grow, $\\overline{X}_n$ gets closer to $\\mu$.\n",
    "```"
   ]
  },
  {
   "cell_type": "markdown",
   "metadata": {},
   "source": [
    "The **Central Limit Theorem** States that for such a framework as the one described for this section, with expectation $\\mu$ and variance $\\sigma^2$:\n",
    "\n",
    "$$\n",
    "Z = \\frac{\\overline{X}_n - \\mu}{\\sigma / \\sqrt{n}} \\sim \\mathcal{N}(0, 1) \\;\\; \\text{when} \\;\\; n \\rightarrow +\\infty\n",
    "$$\n",
    "\n",
    "To resume, for any sample of a reasonably big size of independent random variable $X_i$, the standardized mean distribution $Z$ can be simplified to a normal distribution $\\mathcal{N}(0, 1)$.\n",
    "\n",
    "Let us verify this fact empirically with an example. Consider the uniform distribution $U(0, 1)$ and the poisson distribution $Pois(1)$. By taking samples of bigger and bigger sizes, the distribution of $\\overline{X}_n$ should resemble the one of a normal distribution."
   ]
  },
  {
   "cell_type": "code",
   "execution_count": 16,
   "metadata": {
    "tags": [
     "hide-input",
     "remove-output"
    ]
   },
   "outputs": [
    {
     "data": {
      "image/png": "[encoded data removed]",
      "text/plain": [
       "<Figure size 1152x576 with 8 Axes>"
      ]
     },
     "metadata": {},
     "output_type": "display_data"
    }
   ],
   "source": [
    "import matplotlib.pyplot as plt\n",
    "import numpy as np\n",
    "import seaborn as sns\n",
    "plt.ion()\n",
    "plt.style.use('fivethirtyeight')\n",
    "np.random.seed(42)\n",
    "\n",
    "sizes = [1, 5, 10, 50]\n",
    "samples = 400\n",
    "\n",
    "fig = plt.figure(figsize=(len(sizes) * 4, 8), facecolor=\"white\")\n",
    "\n",
    "for i, n in enumerate(sizes):\n",
    "    ax = fig.add_subplot(2, len(sizes), i + 1)\n",
    "    X_n = np.random.uniform(0, 1, (samples, n)).mean(-1)\n",
    "    sns.histplot(X_n, kde=True, ax=ax)\n",
    "    ax.set_ylim(-0.5, 70.5)\n",
    "    ax.set_xlim(0, 1)\n",
    "    ax.set_xticks((0, 0.5, 1))\n",
    "    ax.set_yticks(())\n",
    "    ax.grid()\n",
    "    if i > 0: ax.set_ylabel(\"\")\n",
    "    else: ax.set_ylabel(\"U(0, 1)\")\n",
    "    ax.title.set_text(f\"n = {n}\")\n",
    "    \n",
    "for i, n in enumerate(sizes):\n",
    "    ax = fig.add_subplot(2, len(sizes), len(sizes) + i + 1)\n",
    "    X_n = np.random.poisson(1.0, (samples, n)).mean(-1)\n",
    "    sns.histplot(X_n, kde=True, ax=ax)\n",
    "    ax.set_ylim(-0.5, 200.5)\n",
    "    ax.set_xlim(0, 2)\n",
    "    ax.set_xticks((0, 1, 2))\n",
    "    ax.set_yticks(())\n",
    "    ax.grid()\n",
    "    if i > 0: ax.set_ylabel(\"\")\n",
    "    else: ax.set_ylabel(\"Pois(1)\")\n",
    "        \n",
    "fig.canvas.draw()"
   ]
  },
  {
   "cell_type": "code",
   "execution_count": null,
   "metadata": {
    "tags": [
     "remove-cell"
    ]
   },
   "outputs": [],
   "source": [
    "from myst_nb import glue\n",
    "glue(\"stat_clt_fig\", fig, display=False)"
   ]
  },
  {
   "cell_type": "markdown",
   "metadata": {},
   "source": [
    "```{glue:figure} stat_clt_fig\n",
    ":align: center\n",
    ":name: \"stat-clt-fig\"\n",
    "\n",
    "Visualization of the Central Limit Theorem. When $n$ grow, the distribution of $\\overline{X}_n$ gets closer to a normal distribution.\n",
    "```"
   ]
  },
  {
   "cell_type": "markdown",
   "metadata": {},
   "source": [
    "## Estimates\n",
    "\n",
    "The goal of statistical inference is to find, to infer, some **Estimate** of some **Parameters** $\\theta$ governing some hypothetical distribution supposed to be responsible for the variation in the set of random variables studied $X$. The distribution is chosen appropriately using the tools of statistical analysis.\n",
    "\n",
    "The idea of an **Estimator** is to approximate a statistical parameter. Statistical descriptors are such estimators as they approximate a statistical parameter concerning the studied population given a sample. An **Estimate** is the value obtained after the measurement of an estimator.\n",
    "\n",
    "As it may imply in its name, **approximate** means that an estimate is not and **never** will be **perfect**. There is some notion of error, commonly referred to as the **Margin of Error**.\n",
    "\n",
    "In this section, we study two different kinds of estimators, **Point Estimators** and **Interval Estimators**, and discuss approaches to find them.\n",
    "\n",
    "### Point Estimate\n",
    "\n",
    "**Point Estimators** can be created using different approaches. Among them two will be presented, the **Method of Moments**, and the **Maximum Likelihood**.\n",
    "\n",
    "```{note}\n",
    "|Unkown Population Parameter  |Symbol    |Empirical Point Estimation|Symbol          |\n",
    "|:----------------------------|:--------:|:-------------------------|:--------------:|\n",
    "|Population mean              |$\\mu$     |Sample mean               |$\\hat{\\mu}$     |\n",
    "|Population standard deviation|$\\sigma^2$|Sample variance           |$\\hat{\\sigma}^2$|\n",
    "|Population standard deviation|$\\sigma$  |Sample standard deviation |$\\hat{\\sigma}$  |\n",
    "|Population proportion        |$p$       |Sample proportion         |$\\hat{p}$       |\n",
    "```\n",
    "\n",
    "#### Method of Moments\n",
    "\n",
    "Before even looking at the **Method of Moments**, or **MM** for short, we need to define a **Moment**. The $k$-th Moment of a given random variable $X$ is expressed as:\n",
    "\n",
    "$$\n",
    "\\mathbb{E}[X^k]\n",
    "$$\n",
    "\n",
    "We already know from now on that an approximation of the first moment of $X$ is given by the sample mean:\n",
    "\n",
    "$$\n",
    "\\frac{1}{n} \\sum_{i=1}^{n} X_i\n",
    "$$\n",
    "\n",
    "Base on that we can approximate hte $k$-th Moment of $X$ by:\n",
    "\n",
    "$$\n",
    "\\frac{1}{n} \\sum_{i=1}^{n} X_i^k\n",
    "$$\n",
    "\n",
    "Let us consider the following example. Considere the random sample $X_1, \\dots, X_n$ and try to approximate the population mean $\\mu = \\mathbb{E}[X]$ and the variance of the popylation $\\sigma^2 = \\mathbb{E}[(X - \\mathbb{E}[X])^2] = \\mathbb{E}[X^2] - \\mu^2$ using the method of moments:\n",
    "\n",
    "$$\n",
    "\\begin{align}\n",
    "\\hat{\\mu} = \\frac{1}{n} \\sum_{1}^{n} X_i && \\hat{\\sigma}^2 = \\frac{1}{n} \\sum_{1}^{n} X_i^2 - \\left [\\ \\frac{1}{n} \\sum_{1}^{n} X_i \\right ] ^2\n",
    "\\end{align}\n",
    "$$\n",
    "\n",
    "As you can notice, the method revolves around the sample mean and does not require any *PDF* nor *PMF* computation. One downfall of this method can be observed by looking at the second term of the variance estimator. If this term is too big, the approximation result will be negative, which is not acceptable.\n",
    "\n",
    "#### Maximum Likelihood\n",
    "\n",
    "Another method for creating point estimators is the **Maximum Likelihood**. Let us remind the context we are dealing with. Consider $X_1, \\dots, X_n$ a random sample *(independent)* of size $n$ sampled from a *PDF* or *PMF* $f(X | \\theta)$. Our goal is to estimate, approximate $\\theta$.\n",
    "\n",
    "This method, as its name implies, consists on **maximizing** a function $\\mathcal{L}(\\theta | X_1, \\dots, X_n)$ representing the **Likelihood** of having $\\theta$ given our sample. The **Likelihood Function** is defined as the joint *PMF* of each individual of our sample:\n",
    "\n",
    "$$\n",
    "\\begin{align}\n",
    "\\mathcal{L}(\\theta | X_1, \\dots, X_n) & = p(X_1, \\dots, X_n | \\theta) \\\\\n",
    "                            & = p(X_1 | \\theta) \\cdots \\dots \\cdots p(X_n | \\theta) \\\\\n",
    "                            & = \\prod_{i=1}^{n} p(X_i | \\theta) \\\\\n",
    "\\end{align}\n",
    "$$\n",
    "\n",
    "The parameter $\\hat{\\theta}$ that maximizes the likelihood function is called the **Maximum Likelihood Estimator**, or **MLE** for short. As a reminder, finding the maximum of some function $f$ can be done by studying its derivative $f'$. In this sense we will often talk about the **Log Likelihood Function**:\n",
    "\n",
    "$$\n",
    "\\begin{align}\n",
    "l(\\theta | X_1, \\dots, X_n) & = log \\mathcal{L}(\\theta | X_1, \\dots, X_n) \\\\\n",
    "                            & = log \\prod_{i=1}^{n} p(X_i | \\theta) \\\\\n",
    "                            & = \\sum_{i=1}^{n} log p(X_i | \\theta)\n",
    "\\end{align}\n",
    "$$\n",
    "\n",
    "**Log** is a **Monotonic** function, it does not change the order of what it is given, and the log of a product is the sum of logs. It allows us to simplify the likelihood as a sum and thus to simplify the process of derivation.\n",
    "\n",
    "### Interval Estimates\n",
    "\n",
    "\n",
    "\n",
    "## Hypothesis Testing\n",
    "## Two Sample Hypothesis testing\n",
    "## Chi-Square Test\n",
    "## Anaysis of Variance\n",
    "## Bayesian Inference\n",
    "## Applications\n",
    "### Logistic Regression\n",
    "### Bayes Classification"
   ]
  }
 ],
 "metadata": {
  "celltoolbar": "Tags",
  "kernelspec": {
   "display_name": "Python 3",
   "language": "python",
   "name": "python3"
  },
  "language_info": {
   "codemirror_mode": {
    "name": "ipython",
    "version": 3
   },
   "file_extension": ".py",
   "mimetype": "text/x-python",
   "name": "python",
   "nbconvert_exporter": "python",
   "pygments_lexer": "ipython3",
   "version": "3.8.2"
  }
 },
 "nbformat": 4,
 "nbformat_minor": 4
}
