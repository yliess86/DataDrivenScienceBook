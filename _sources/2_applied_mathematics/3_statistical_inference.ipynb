{
 "cells": [
  {
   "cell_type": "markdown",
   "metadata": {},
   "source": [
    "# Statistical Inference\n",
    "\n",
    "## Introduction\n",
    "\n",
    "**Statistical Inference** uses classical statistics to observe, study, and predict patterns resulting from data analysis and probabilistic modeling. There are two main approaches to the field, either **Frequentist** or **Bayesian**. The first approach implies a fixed distribution responsible for the generation of repeated patterns in the data. We can find the best estimate of the distribution's parameters given data samples. The last one implies that the state of the world can be updated using observed samples. The parameters of the distributions can themselves be represented using probability.\n",
    "\n",
    "As an example, here is a situation explaining using the two frameworks. Imagine your phone is ringing in your house, and you want to reach it:\n",
    "- **Frequentist**: I have a mental model of my house. Given the beeping sound, I can infer the house's area to search for my phone.\n",
    "- **Bayesian**: On top of having a mental model of my house, I also remember from the past where I misplaced the phone. By combining my inferences using the beeps and my prior information on its location, I can identify the house area and locate my phone.\n",
    "\n",
    "## Statistical Analysis Fundamentals\n",
    "\n",
    "**Statistical Analysis** allows us to describe patterns observed in any given dataset via **Visualization** or **Statistical Descriptors**. In statistics, we are interested in studying a given **Sample** from a **Population** of **Individuals**.\n",
    "\n",
    "```{note}\n",
    "Statistical Descriptors are closely related to [Probability Descriptors](./2_probabilities_and_information_theory.ipynb). As we will observe later in the chapter, the Observed Mean can be associated with the Expectation, the Observed Variance to the Variance, and many more.\n",
    "```\n",
    "\n",
    "Suppose we design a study on the effectiveness of some medicine for some given disease. In that case, the sample corresponds to the set of patients who participated in the study, and the population represents all the people suffering from the studied disease.\n",
    "\n",
    "To give credit to a **Study**, in other word to **Generalize** its results, the sample needs to **Reflect** the **Variation** present in the entire population of interest. One way to obtain such a sample is to include **Randomness** in the population's selection process.\n",
    "\n",
    "Now that we have defined the context of application let us define all the fundamentals of Statistical Analysis.\n",
    "\n",
    "```{note}\n",
    "The different types of visualizations that can be used to express some data series' underlying variations have been discussed in the [Data Visualization Chapter](../1_data_representations/1_data_visualization.ipynb).\n",
    "```\n",
    "\n",
    "### Central Tendency\n",
    "\n",
    "The first type of descriptor is the **Central Tendency**. It expresses the central value, the typical value for a data distribution. The most common central tendency measures are the **Mode**, the **Mean**, and the **Median**.\n",
    "\n",
    "The **Mode** $M_o$ is the value that occurs most often in a given set of data values.\n",
    "\n",
    "The **Mean** $\\overline{x}$ refers to the **Arithmetic Mean**:\n",
    "\n",
    "$$\n",
    "\\overline{x} = \\frac{1}{n} \\sum_{i=1}^{n} x_i\n",
    "$$\n",
    "\n",
    "In some cases it also refers to the **Weighted Arithmetic Mean**:\n",
    "\n",
    "$$\n",
    "\\overline{x} = \\frac{1}{n} \\sum_{i=1}^{n} w_i x_i\n",
    "$$\n",
    "\n",
    "The **Median** $M_e$ is the variable responsible for separating the statistical distributions as two equally populated groups when organized in ascending order.\n",
    "\n",
    "$$\n",
    "M_e = \\begin{cases}\n",
    "x_{(n+1)/2} & \\text{if}\\;n\\;\\text{is odd} \\\\\n",
    "\\frac{x_{n/2} + x_{n/2 + 1}}{2} & \\text{if}\\;n\\;\\text{is even}\n",
    "\\end{cases}\n",
    "$$\n",
    "\n",
    "Let us consider the following example, which compiles one exam score for each of $22$ students and compute its central tendency metrics:"
   ]
  },
  {
   "cell_type": "code",
   "execution_count": 82,
   "metadata": {},
   "outputs": [
    {
     "data": {
      "text/html": [
       "<div>\n",
       "<style scoped>\n",
       "    .dataframe tbody tr th:only-of-type {\n",
       "        vertical-align: middle;\n",
       "    }\n",
       "\n",
       "    .dataframe tbody tr th {\n",
       "        vertical-align: top;\n",
       "    }\n",
       "\n",
       "    .dataframe thead th {\n",
       "        text-align: right;\n",
       "    }\n",
       "</style>\n",
       "<table border=\"1\" class=\"dataframe\">\n",
       "  <thead>\n",
       "    <tr style=\"text-align: right;\">\n",
       "      <th></th>\n",
       "      <th>0</th>\n",
       "      <th>1</th>\n",
       "      <th>2</th>\n",
       "      <th>3</th>\n",
       "      <th>4</th>\n",
       "      <th>5</th>\n",
       "      <th>6</th>\n",
       "      <th>7</th>\n",
       "      <th>8</th>\n",
       "      <th>9</th>\n",
       "      <th>10</th>\n",
       "      <th>11</th>\n",
       "      <th>12</th>\n",
       "      <th>13</th>\n",
       "      <th>14</th>\n",
       "      <th>15</th>\n",
       "      <th>16</th>\n",
       "      <th>17</th>\n",
       "      <th>18</th>\n",
       "      <th>19</th>\n",
       "      <th>20</th>\n",
       "      <th>21</th>\n",
       "    </tr>\n",
       "  </thead>\n",
       "  <tbody>\n",
       "    <tr>\n",
       "      <th>score</th>\n",
       "      <td>14</td>\n",
       "      <td>12</td>\n",
       "      <td>14</td>\n",
       "      <td>17</td>\n",
       "      <td>12</td>\n",
       "      <td>12</td>\n",
       "      <td>17</td>\n",
       "      <td>15</td>\n",
       "      <td>11</td>\n",
       "      <td>14</td>\n",
       "      <td>11</td>\n",
       "      <td>11</td>\n",
       "      <td>13</td>\n",
       "      <td>7</td>\n",
       "      <td>7</td>\n",
       "      <td>11</td>\n",
       "      <td>9</td>\n",
       "      <td>13</td>\n",
       "      <td>10</td>\n",
       "      <td>8</td>\n",
       "      <td>17</td>\n",
       "      <td>12</td>\n",
       "    </tr>\n",
       "  </tbody>\n",
       "</table>\n",
       "</div>"
      ],
      "text/plain": [
       "        0   1   2   3   4   5   6   7   8   9  10  11  12  13  14  15  16  17  \\\n",
       "score  14  12  14  17  12  12  17  15  11  14  11  11  13   7   7  11   9  13   \n",
       "\n",
       "       18  19  20  21  \n",
       "score  10   8  17  12  "
      ]
     },
     "execution_count": 82,
     "metadata": {},
     "output_type": "execute_result"
    }
   ],
   "source": [
    "import pandas as pd\n",
    "import numpy as np\n",
    "np.random.seed(42)\n",
    "pd.options.display.max_columns = 22\n",
    "\n",
    "\n",
    "N = 22\n",
    "\n",
    "# Generate Data for Example\n",
    "df = pd.DataFrame(data=np.random.normal(13, 3, size=N).astype(int), columns=[\"score\"])\n",
    "df.head(N).T"
   ]
  },
  {
   "cell_type": "code",
   "execution_count": 77,
   "metadata": {},
   "outputs": [
    {
     "name": "stdout",
     "output_type": "stream",
     "text": [
      "Mode  : 11.00\n",
      "Mean  : 12.14\n",
      "Median: 12.00\n"
     ]
    }
   ],
   "source": [
    "print(f\"Mode  : {df.score.mode().array[0]:.2f}\")\n",
    "print(f\"Mean  : {df.score.mean():.2f}\")\n",
    "print(f\"Median: {df.score.median():.2f}\")"
   ]
  },
  {
   "cell_type": "code",
   "execution_count": 124,
   "metadata": {
    "tags": [
     "hide-input",
     "remove-output"
    ]
   },
   "outputs": [
    {
     "data": {
      "image/png": "[encoded data removed]",
      "text/plain": [
       "<Figure size 576x288 with 1 Axes>"
      ]
     },
     "metadata": {},
     "output_type": "display_data"
    }
   ],
   "source": [
    "import matplotlib.pyplot as plt\n",
    "import numpy as np\n",
    "plt.ion()\n",
    "plt.style.use('fivethirtyeight')\n",
    "\n",
    "fig = plt.figure(figsize=(8, 4), facecolor=\"white\")\n",
    "ax = fig.add_subplot(1, 1, 1)\n",
    "\n",
    "ax.hist(df.score, bins=np.arange(20) - 0.5, rwidth=0.9)\n",
    "line1 = ax.axvline(df.score.mode().array[0], color=\"#E5AE42\", linestyle=\"--\")\n",
    "line2 = ax.axvline(df.score.mean(), color=\"#F6514C\", linestyle=\"--\")\n",
    "line3 = ax.axvline(df.score.median(), color=\"k\", linestyle=\"--\")\n",
    "ax.set_xlabel(\"score\")\n",
    "ax.set_ylabel(\"count\")\n",
    "ax.set_xticks(range(0, 20 + 1, 2))\n",
    "ax.set_xlim(-0.5, 20.5)\n",
    "ax.legend(handles=[line1, line2, line3], labels=[\"Mode\", \"Mean\", \"Median\"])\n",
    "\n",
    "fig.canvas.draw()"
   ]
  },
  {
   "cell_type": "code",
   "execution_count": null,
   "metadata": {
    "tags": [
     "remove-cell"
    ]
   },
   "outputs": [],
   "source": [
    "from myst_nb import glue\n",
    "glue(\"stat_centen_fig\", fig, display=False)"
   ]
  },
  {
   "cell_type": "markdown",
   "metadata": {},
   "source": [
    "```{glue:figure} stat_centen_fig\n",
    ":align: center\n",
    ":name: \"stat-centen-fig\"\n",
    "\n",
    "Mode, Mean, and Median Visualization for a dataset containing exam's scores of $22$ students.\n",
    "```"
   ]
  },
  {
   "cell_type": "markdown",
   "metadata": {},
   "source": [
    "### Spread\n",
    "\n",
    "The second type of descriptor is the **Spread** or **Dispersion** of a data series. It is often implied to be the spread around its mean. The most common spread measures are the **Range** and the **Variance**, thus the **Standard Deviation**.\n",
    "\n",
    "The **Range** $R$ of a data series is defined as the difference between its maximum and minimum values. If the values are organized in ascending order, its:\n",
    "\n",
    "$$\n",
    "R = x_n - x_0\n",
    "$$\n",
    "\n",
    "The **Variance**, $s^2$ for some observed data series, $\\sigma^2$ for some theoretical distribution, is the average sum of square difference from the mean. It explains how the data is distributed around the mean. The **Standard Deviation** is defined as the square root of the variance. It allows working with the same unit as the data.\n",
    "\n",
    "$$\n",
    "s^2 = \\frac{1}{n} \\sum_{i=1}^{n} (x_i - \\overline{x_i})^2\n",
    "$$\n",
    "\n",
    "### Correlation\n",
    "\n",
    "The last type of descriptor is the **Correlation** between two variables $X$ and $Y$. In satistical analysis, it is often easier to interpret the correlation between two variables of the same unit. If it is not the case, it is common practice to centre and reduce the variables $x = \\frac{X - \\mu}{\\sigma}$.\n",
    "\n",
    "One of the correlation metrics is the **Linear Correlation Coeficient** between $X$ and $Y$ and is defined as:\n",
    "\n",
    "$$\n",
    "\\rho(X, Y) = \\frac{Cov(X, Y)}{\\sigma_X \\sigma_Y},\\;\\;-1 \\leq \\rho(X, Y) \\leq 1\n",
    "$$\n",
    "\n",
    "When $\\rho(X, Y)$ is closed to $-1$ or $1$, it means that $X$ and $Y$ are linearly related, and the sign defines the direction of the linearity. If $\\rho(X, Y)$ is null, there is no linear dependency, no correlation between the two variables.\n",
    "\n",
    "## Sampling and Central Limit Theorem\n",
    "\n",
    "### Sample\n",
    "### Central Limit Theorem\n",
    "\n",
    "## Point Estimate\n",
    "## Confidence Intervals\n",
    "## Hypothesis Testing\n",
    "## Two Sample Hypothesis testing\n",
    "## Chi-Square Test\n",
    "## Anaysis of Variance\n",
    "## Bayesian Inference"
   ]
  }
 ],
 "metadata": {
  "celltoolbar": "Tags",
  "kernelspec": {
   "display_name": "Python 3",
   "language": "python",
   "name": "python3"
  },
  "language_info": {
   "codemirror_mode": {
    "name": "ipython",
    "version": 3
   },
   "file_extension": ".py",
   "mimetype": "text/x-python",
   "name": "python",
   "nbconvert_exporter": "python",
   "pygments_lexer": "ipython3",
   "version": "3.8.2"
  }
 },
 "nbformat": 4,
 "nbformat_minor": 4
}
